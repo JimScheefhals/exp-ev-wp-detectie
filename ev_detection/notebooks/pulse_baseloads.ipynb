{
 "cells": [
  {
   "cell_type": "code",
   "execution_count": null,
   "id": "7d7fb560-f561-415c-80f8-b3054b998e07",
   "metadata": {},
   "outputs": [],
   "source": [
    "from ev_detection.src.input.baseload_profiles import BaseloadProfiles\n",
    "\n",
    "import plotly.graph_objects as go\n",
    "from plotly.subplots import make_subplots\n",
    "\n",
    "import numpy as np"
   ]
  },
  {
   "cell_type": "code",
   "execution_count": null,
   "id": "3c5b3319-0d9b-4873-9ef9-05bb2e60441b",
   "metadata": {},
   "outputs": [],
   "source": [
    "baseload = BaseloadProfiles()"
   ]
  },
  {
   "cell_type": "code",
   "execution_count": null,
   "id": "1c1303fd-acaa-48a0-a942-defb7db298f9",
   "metadata": {},
   "outputs": [],
   "source": [
    "start_id = 250\n",
    "end_id = 400\n",
    "batch_size = 10\n",
    "\n",
    "num_profiles = len(baseload.profile_ids[start_id:end_id])\n",
    "num_batches = int(np.ceil(num_profiles/batch_size))\n",
    "\n",
    "for i in range(num_batches):\n",
    "    samples = baseload._get_profiles_by_id(\n",
    "        baseload.profile_ids[start_id + i*batch_size: start_id + (i+1)*batch_size]\n",
    "    )\n",
    "    datetime = baseload.get_datetimes()\n",
    "    \n",
    "    fig = go.Figure()\n",
    "    \n",
    "    for sample in samples.items():\n",
    "        fig.add_trace(go.Scatter(x=datetime, y=sample[1], mode='lines', name=sample[0]))\n",
    "    \n",
    "    fig.update_layout(\n",
    "        title=\"Baseload profiles\",\n",
    "        xaxis_title=\"Date\",\n",
    "        yaxis_title=\"Power [kW]\",\n",
    "    )\n",
    "    \n",
    "    fig.show()"
   ]
  }
 ],
 "metadata": {
  "kernelspec": {
   "display_name": "Python 3 (ipykernel)",
   "language": "python",
   "name": "python3"
  },
  "language_info": {
   "codemirror_mode": {
    "name": "ipython",
    "version": 3
   },
   "file_extension": ".py",
   "mimetype": "text/x-python",
   "name": "python",
   "nbconvert_exporter": "python",
   "pygments_lexer": "ipython3",
   "version": "3.12.2"
  }
 },
 "nbformat": 4,
 "nbformat_minor": 5
}
