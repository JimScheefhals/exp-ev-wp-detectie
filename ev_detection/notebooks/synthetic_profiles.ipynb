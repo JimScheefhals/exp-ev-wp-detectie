{
 "cells": [
  {
   "cell_type": "code",
   "execution_count": null,
   "id": "b850aaa0-d169-4cd4-9b82-dbe88b0331e2",
   "metadata": {},
   "outputs": [],
   "source": [
    "from ev_detection.src.input.load_profiles import LoadProfiles\n",
    "from ev_detection.src.visualisation.plot_peaks import plot_peaks\n",
    "from ev_detection.src.features.feature_builder import FeatureBuilder\n",
    "from ev_detection.src.model.classifier import ClassifierModel\n",
    "from ev_detection.src.types.classifier_names import ClassifierName\n",
    "\n",
    "import plotly.graph_objects as go\n",
    "from plotly.subplots import make_subplots\n",
    "\n",
    "import pandas as pd\n",
    "import numpy as np"
   ]
  },
  {
   "cell_type": "code",
   "execution_count": null,
   "id": "0bcc76c3-6536-4c7e-99b2-09217988a4bf",
   "metadata": {},
   "outputs": [],
   "source": [
    "load_profiles = LoadProfiles()"
   ]
  },
  {
   "cell_type": "code",
   "execution_count": null,
   "id": "d8164a6b-c943-4ccc-abcc-cc7eee1ae25d",
   "metadata": {},
   "outputs": [],
   "source": [
    "positive_samples, _ = load_profiles.render_synthetic_positives(5)\n",
    "datetime = load_profiles.get_datetimes()\n",
    "\n",
    "fig = go.Figure()\n",
    "\n",
    "for _, sample in positive_samples.items():\n",
    "    fig.add_trace(go.Scatter(x=datetime, y=sample, mode='lines'))\n",
    "\n",
    "fig.update_layout(\n",
    "    title=\"Synthetic profiles\",\n",
    "    xaxis_title=\"Date\",\n",
    "    yaxis_title=\"Power [kW]\",\n",
    ")\n",
    "\n",
    "fig.show()"
   ]
  },
  {
   "cell_type": "code",
   "execution_count": null,
   "id": "0877254d-babb-4b16-90d9-7259b2a1485b",
   "metadata": {},
   "outputs": [],
   "source": [
    "negative_samples, _ = load_profiles.render_negatives(5)\n",
    "datetime = load_profiles.get_datetimes()\n",
    "\n",
    "fig = go.Figure()\n",
    "\n",
    "for _, sample in negative_samples.items():\n",
    "    fig.add_trace(go.Scatter(x=datetime, y=sample, mode='lines'))\n",
    "\n",
    "fig.update_layout(\n",
    "    title=\"Synthetic profiles\",\n",
    "    xaxis_title=\"Date\",\n",
    "    yaxis_title=\"Power [kW]\",\n",
    ")\n",
    "\n",
    "fig.show()"
   ]
  },
  {
   "cell_type": "markdown",
   "id": "43259543-4c83-41e5-8556-0206a2aa9242",
   "metadata": {},
   "source": [
    "# Build features from the collected samples"
   ]
  },
  {
   "cell_type": "code",
   "execution_count": null,
   "id": "aab1497e-272e-4da6-bdcc-0849d3a8f618",
   "metadata": {},
   "outputs": [],
   "source": [
    "samples, meta_data = load_profiles.render_samples(100)"
   ]
  },
  {
   "cell_type": "code",
   "execution_count": null,
   "id": "a81d0002-5114-420b-9f34-c7ef89aa976a",
   "metadata": {},
   "outputs": [],
   "source": [
    "feature_builder = FeatureBuilder(samples, datetime, meta_data)\n",
    "feature_builder.build()"
   ]
  },
  {
   "cell_type": "code",
   "execution_count": null,
   "id": "a3de8d7d-7e9a-4bbd-8f92-08db0703e754",
   "metadata": {},
   "outputs": [],
   "source": [
    "feature_builder.res"
   ]
  },
  {
   "cell_type": "code",
   "execution_count": null,
   "id": "24cbdbde-ad53-45f1-bce9-e203941cf172",
   "metadata": {},
   "outputs": [],
   "source": [
    "feature_builder.get_features()"
   ]
  },
  {
   "cell_type": "code",
   "execution_count": null,
   "id": "a15e5afe-05d1-465d-b903-34b4eb13852e",
   "metadata": {},
   "outputs": [],
   "source": [
    "plot_peaks(feature_builder.get_input())"
   ]
  },
  {
   "cell_type": "code",
   "execution_count": null,
   "id": "f6b73cd5-f8de-42b6-81a9-5964c5a2832c",
   "metadata": {},
   "outputs": [],
   "source": [
    "load_profiles.show_profile_components(5, meta_data)"
   ]
  },
  {
   "cell_type": "markdown",
   "id": "6672e458-bcfa-4aed-94e1-95e322e8f4bf",
   "metadata": {},
   "source": [
    "# Train a model on the data\n"
   ]
  },
  {
   "cell_type": "code",
   "execution_count": null,
   "id": "d6d4f23e-6c33-40b4-9991-bbb3144dd6c8",
   "metadata": {},
   "outputs": [],
   "source": [
    "classifier_model = ClassifierModel(samples, datetime, meta_data)\n",
    "classifier_model.test_prediction(ClassifierName.LOGREGRESSION)"
   ]
  },
  {
   "cell_type": "code",
   "execution_count": null,
   "id": "abe01869-8e8f-430d-b596-9ab1ed6e9fa3",
   "metadata": {},
   "outputs": [],
   "source": [
    "classifier_model.get_metrics()"
   ]
  },
  {
   "cell_type": "code",
   "execution_count": null,
   "id": "b1865e56-d23f-4370-aedf-6c26dfc85374",
   "metadata": {},
   "outputs": [],
   "source": [
    "classifier_model.get_predictions()\n"
   ]
  }
 ],
 "metadata": {
  "kernelspec": {
   "display_name": "Python 3 (ipykernel)",
   "language": "python",
   "name": "python3"
  },
  "language_info": {
   "codemirror_mode": {
    "name": "ipython",
    "version": 3
   },
   "file_extension": ".py",
   "mimetype": "text/x-python",
   "name": "python",
   "nbconvert_exporter": "python",
   "pygments_lexer": "ipython3",
   "version": "3.12.2"
  }
 },
 "nbformat": 4,
 "nbformat_minor": 5
}
