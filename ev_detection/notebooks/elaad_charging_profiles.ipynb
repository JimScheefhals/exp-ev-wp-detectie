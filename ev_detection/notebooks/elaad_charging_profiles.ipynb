{
 "cells": [
  {
   "cell_type": "code",
   "execution_count": null,
   "id": "35ea5a97-0b75-492b-a963-617aa6b9bc6a",
   "metadata": {},
   "outputs": [],
   "source": [
    "from ev_detection.src.input.charging_profile import ChargingProfiles, ChargingProfile\n",
    "\n",
    "import plotly.graph_objects as go\n",
    "from plotly.subplots import make_subplots\n",
    "\n",
    "import pandas as pd\n",
    "import numpy as np"
   ]
  },
  {
   "cell_type": "code",
   "execution_count": null,
   "id": "e10f5fc9-43e9-42e2-98a2-8c8709f34e8c",
   "metadata": {},
   "outputs": [],
   "source": [
    "charging_profiles = ChargingProfiles()"
   ]
  },
  {
   "cell_type": "code",
   "execution_count": null,
   "id": "dce96f7c-a81b-4b25-b3ba-63bc75149394",
   "metadata": {},
   "outputs": [],
   "source": [
    "charging_profiles.get_datetimes_week()"
   ]
  },
  {
   "cell_type": "code",
   "execution_count": null,
   "id": "7cf8d97e-104b-4b92-9f46-3fc10f12c026",
   "metadata": {},
   "outputs": [],
   "source": [
    "samples = charging_profiles.sample_yearly_profiles(10)\n",
    "datetime = charging_profiles.get_datetimes()\n",
    "\n",
    "fig = go.Figure()\n",
    "\n",
    "for sample in samples:\n",
    "    fig.add_trace(go.Scatter(x=datetime, y=sample, mode='lines'))\n",
    "\n",
    "fig.update_layout(\n",
    "    title=\"Charging profiles\",\n",
    "    xaxis_title=\"Date\",\n",
    "    yaxis_title=\"Power [kW]\",\n",
    ")\n",
    "\n",
    "fig.show()"
   ]
  },
  {
   "cell_type": "code",
   "execution_count": null,
   "id": "d1e92f51-729e-48d2-9255-f944abc7482e",
   "metadata": {},
   "outputs": [],
   "source": [
    "samples = charging_profiles.sample_yearly_profiles(10)\n",
    "datetime = charging_profiles.get_datetimes()\n",
    "summed_samples = np.array([sample.values for sample in samples]).sum(axis = 0)\n",
    "\n",
    "fig = go.Figure()\n",
    "\n",
    "fig.add_trace(go.Scatter(x=datetime, y=summed_samples, mode='lines'))\n",
    "\n",
    "fig.update_layout(\n",
    "    title=\"Charging profiles aggregated\",\n",
    "    xaxis_title=\"Date\",\n",
    "    yaxis_title=\"Power [kW]\",\n",
    ")\n",
    "\n",
    "fig.show()"
   ]
  },
  {
   "cell_type": "code",
   "execution_count": null,
   "id": "2587c8ff-e218-44c6-831d-72c02633ce14",
   "metadata": {},
   "outputs": [],
   "source": [
    "samples = charging_profiles.sample_weekly_profiles(10)\n",
    "datetime = charging_profiles.get_datetimes_week()\n",
    "\n",
    "fig = go.Figure()\n",
    "\n",
    "for sample in samples:\n",
    "    fig.add_trace(go.Scatter(x=datetime, y=sample, mode='lines'))\n",
    "\n",
    "fig.update_layout(\n",
    "    title=\"Charging profiles\",\n",
    "    xaxis_title=\"Date\",\n",
    "    yaxis_title=\"Power [kW]\",\n",
    ")\n",
    "\n",
    "fig.show()"
   ]
  },
  {
   "cell_type": "code",
   "execution_count": null,
   "id": "6a03f3fd-aca5-4c7c-ae2a-7fd586e3d623",
   "metadata": {},
   "outputs": [],
   "source": [
    "duration_sessions = charging_profiles.duration_charging_sessions()\n",
    "fig = go.Figure()\n",
    "fig.add_trace(go.Histogram(\n",
    "    x=duration_sessions, \n",
    "    histnorm=\"percent\",\n",
    "    nbinsx=duration_sessions.unique().shape[0] / 4 \n",
    "))\n",
    "fig.update_layout(\n",
    "    title=\"Duration of charging sessions\",\n",
    "    xaxis_title=\"duration [hours]\",\n",
    "    yaxis_title=\"Frequentie [%]\",\n",
    ")\n",
    "fig.show()"
   ]
  },
  {
   "cell_type": "code",
   "execution_count": null,
   "id": "13fd2306-f4ea-4f48-934a-5e88f3184f0a",
   "metadata": {},
   "outputs": [],
   "source": [
    "loaded_charge = charging_profiles.loaded_charge_sessions()\n",
    "fig = go.Figure()\n",
    "fig.add_trace(go.Histogram(\n",
    "    x=loaded_charge, \n",
    "    histnorm=\"percent\",\n",
    "    nbinsx=20  \n",
    "))\n",
    "fig.update_layout(\n",
    "    title=\"Loaded charge during charging sessions\",\n",
    "    xaxis_title=\"Loaded charge [kWh]\",\n",
    "    yaxis_title=\"Frequentie [%]\",\n",
    ")\n",
    "fig.show()"
   ]
  },
  {
   "cell_type": "code",
   "execution_count": null,
   "id": "ac7a4d9d-b37a-496e-8f02-54b02a5b7641",
   "metadata": {},
   "outputs": [],
   "source": [
    "weekday, hour = charging_profiles.start_charging_sessions()\n",
    "hour_mapping = charging_profiles.all_profiles[[\"time\", \"hour\"]].groupby([\"hour\"]).first()\n",
    "\n",
    "fig = make_subplots(\n",
    "    rows=1,\n",
    "    cols=2,\n",
    "    shared_yaxes=True,\n",
    "    shared_xaxes=True,\n",
    "    subplot_titles=[\"Weekdag\", \"Weekenddag\"],\n",
    ")\n",
    "\n",
    "weekend = np.logical_or(weekday == 5, weekday == 6)\n",
    "idx_weekend = np.argwhere(weekend)[:, 0]\n",
    "idx_week = np.argwhere(~weekend)[:, 0]\n",
    "\n",
    "fig.add_trace(\n",
    "    go.Histogram(\n",
    "        x=hour[idx_week], \n",
    "        histnorm=\"percent\",\n",
    "        nbinsx=24, \n",
    "        name=\"weekday\",\n",
    "        showlegend=False\n",
    "    ), \n",
    "    row=1, \n",
    "    col=1\n",
    ")\n",
    "\n",
    "fig.add_trace(\n",
    "    go.Histogram(\n",
    "        x=hour[idx_weekend], \n",
    "        histnorm=\"percent\",\n",
    "        nbinsx=24, \n",
    "        name=\"weekendday\",\n",
    "        showlegend=False\n",
    "    ), \n",
    "    row=1, \n",
    "    col=2\n",
    ")\n",
    "\n",
    "labels = [0, 6, 12, 18, 23]\n",
    "\n",
    "fig.update_layout(\n",
    "    title=\"Start time of the charging sessions\",\n",
    "    xaxis_title=\"Start time\",\n",
    "    yaxis_title=\"Frequentie [%]\",\n",
    "    xaxis = dict(\n",
    "        tickmode = 'array',\n",
    "        tickvals = labels,\n",
    "        ticktext = hour_mapping.iloc[labels]\n",
    "    )\n",
    ")\n",
    "fig.show()"
   ]
  }
 ],
 "metadata": {
  "kernelspec": {
   "display_name": "Python 3 (ipykernel)",
   "language": "python",
   "name": "python3"
  },
  "language_info": {
   "codemirror_mode": {
    "name": "ipython",
    "version": 3
   },
   "file_extension": ".py",
   "mimetype": "text/x-python",
   "name": "python",
   "nbconvert_exporter": "python",
   "pygments_lexer": "ipython3",
   "version": "3.12.2"
  }
 },
 "nbformat": 4,
 "nbformat_minor": 5
}
